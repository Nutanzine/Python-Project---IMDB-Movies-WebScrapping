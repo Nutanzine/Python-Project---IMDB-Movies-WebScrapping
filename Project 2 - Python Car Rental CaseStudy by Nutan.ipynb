{
 "cells": [
  {
   "cell_type": "markdown",
   "id": "12df4e93-701e-4df1-bb98-3015d7311fe9",
   "metadata": {},
   "source": [
    "# Car Rental System Case Study - conditional statement case study"
   ]
  },
  {
   "cell_type": "code",
   "execution_count": 7,
   "id": "1298d0f1-5dc3-4e7d-95b3-aea8e930ceb7",
   "metadata": {},
   "outputs": [
    {
     "name": "stdin",
     "output_type": "stream",
     "text": [
      "Enter your Prefered car type (Economy, Standard, Luxury): luxury\n"
     ]
    },
    {
     "name": "stdout",
     "output_type": "stream",
     "text": [
      "The Daily Rental Rate of Luxury is $100\n"
     ]
    }
   ],
   "source": [
    "# Task 1: Define Rental Rates Based on Car Type\n",
    "\n",
    "# Objective: Set different rental rates for car types (Economy, Standard, Luxury) using conditional statements.\n",
    "# 1. Prompt the user to enter a car type (Economy, Standard, or Luxury).\n",
    "# 2. assign a daily rental rate:\n",
    "# •\t   - Economy: $50/day\n",
    "# •\t   - Standard: $75/day\n",
    "# •\t   - Luxury: $100/day\n",
    "# 3. If an invalid car type is entered, display an error message and exit.\n",
    "\n",
    "# Expected Output: The daily rental rate based on the car type\n",
    "\n",
    "\n",
    "car=input('Enter your Prefered car type (Economy, Standard, Luxury):').title()\n",
    "\n",
    "rental_rates={'Economy':50,'Standard':75,'Luxury':100}\n",
    "\n",
    "if car in rental_rates:\n",
    "    daily_rate=rental_rates[car]\n",
    "    print(f'The Daily Rental Rate of {car} is ${daily_rate}')\n",
    "else:\n",
    "    print(f'\\'{car}\\' doesn\\'t exist. PLease enter Valid Car Type') "
   ]
  },
  {
   "cell_type": "code",
   "execution_count": 11,
   "id": "ce2d7bea-5e79-4d9a-9f7a-62b0c34a17a3",
   "metadata": {},
   "outputs": [
    {
     "name": "stdin",
     "output_type": "stream",
     "text": [
      "Enter the Number of Days you've rented this car for: 5\n"
     ]
    },
    {
     "name": "stdout",
     "output_type": "stream",
     "text": [
      "Your Fee for renting Luxury for 5 days is $500\n"
     ]
    }
   ],
   "source": [
    "# Task 2: Calculate Rental Duration Fee\n",
    "\n",
    "# Objective: Calculate the base rental fee by multiplying the daily rate by the number of rental days.\n",
    "# 1. Prompt the user to enter the number of rental days.\n",
    "# 2. Validate the input as a positive integer; otherwise, display an error and exit.\n",
    "# 3. Calculate the base_fee as the product of the daily rental rate and rental days.\n",
    "\n",
    "# Expected Output: The base_fee based on the rental days and car type\n",
    "\n",
    "\n",
    "days=int(input('Enter the Number of Days you\\'ve rented this car for:'))\n",
    "\n",
    "if days>0:\n",
    "    base_fee=daily_rate*days\n",
    "    print(f'Your Fee for renting {car} for {days} days is ${base_fee}')\n",
    "else:\n",
    "    print('Please Enter Valid Number of Days')"
   ]
  },
  {
   "cell_type": "code",
   "execution_count": 25,
   "id": "f98dad0a-cc7f-411d-829e-b820fb6b68e0",
   "metadata": {},
   "outputs": [
    {
     "name": "stdin",
     "output_type": "stream",
     "text": [
      "Enter Membership type to get Discount (Premium, Standard, None): premium\n"
     ]
    },
    {
     "name": "stdout",
     "output_type": "stream",
     "text": [
      "Membership Type: Premium\n",
      "Discount Applied: $75.0\n",
      "Adjusted Fee after Discount: $425.0\n"
     ]
    }
   ],
   "source": [
    "# Task 3: Apply Membership Discount\n",
    "\n",
    "# Objective: Adjust the base_fee by applying a membership discount if applicable.\n",
    "# Steps:\n",
    "# 1. Prompt the user to enter their membership type (Premium, Standard, or None).\n",
    "# 2. Use conditional statements to determine the discount rate:\n",
    "#    - Premium: 15% discount\n",
    "#    - Standard: 10% discount\n",
    "#    - None: No discount\n",
    "# 3. If the membership type is invalid, display an error and exit.\n",
    "# 4. Calculate the discount amount and subtract it from the base_fee.\n",
    "\n",
    "# Expected Output: The adjusted fee after the membership discount.\n",
    "\n",
    "\n",
    "mem=input('Enter Membership type to get Discount (Premium, Standard, None):').title()\n",
    "\n",
    "mem_disc={'Premium':0.15,'Standard':0.1,'None':0}\n",
    "\n",
    "if mem in mem_disc:\n",
    "    discount_rate = mem_disc[mem]\n",
    "    disc_amnt=base_fee*discount_rate\n",
    "    adjusted_fee=base_fee-disc_amnt\n",
    "    print(f'Membership Type: {mem}')\n",
    "    print(f'Discount Applied: ${disc_amnt}')\n",
    "    print(f'Adjusted Fee after Discount: ${adjusted_fee}')\n",
    "else :\n",
    "    print(f'\\'{mem}\\' is Not Valid Membership. Please Enter Valid Type') "
   ]
  },
  {
   "cell_type": "code",
   "execution_count": 27,
   "id": "3bae4923-7125-4329-ade7-4ed581750ef3",
   "metadata": {},
   "outputs": [
    {
     "name": "stdin",
     "output_type": "stream",
     "text": [
      "Do you want to add Insurance? (Yes/No): yes\n",
      "Do you want to add GPS? (Yes/No): yes\n"
     ]
    },
    {
     "name": "stdout",
     "output_type": "stream",
     "text": [
      "The Additional Services Fee is: $125\n",
      "The Total Amount after additional service is: $550.0\n"
     ]
    }
   ],
   "source": [
    "# # Task 4: Add Optional Services\n",
    "\n",
    "# # Objective: Calculate additional charges for optional services (Insurance and GPS).\n",
    "# # Steps:\n",
    "# # 1. Prompt the user to indicate if they want to add Insurance (yes or no).\n",
    "# # •\t   - If 'yes', calculate Insurance fee at $20 per day.\n",
    "# # 2. Prompt the user to indicate if they want to add GPS (yes or no).\n",
    "# # •\t   - If 'yes', calculate GPS fee at $5 per day.\n",
    "# # 3. Use conditional statements to add the appropriate fees based on user choices.\n",
    "\n",
    "# # Expected Output: The additional services fee based on selected options.\n",
    "\n",
    "               \n",
    "insurance_pd=20\n",
    "gps_pd=5\n",
    "\n",
    "insurance=input('Do you want to add Insurance? (Yes/No):').title()\n",
    "gps=input('Do you want to add GPS? (Yes/No):').title()\n",
    "\n",
    "additional_service_fee=0\n",
    "if insurance=='Yes':\n",
    "    additional_service_fee=additional_service_fee+insurance_pd*days\n",
    "if gps=='Yes':\n",
    "    additional_service_fee=additional_service_fee+gps_pd*days\n",
    "\n",
    "print(f'The Additional Services Fee is: ${additional_service_fee}')\n",
    "print(f'The Total Amount after additional service is: ${additional_service_fee+adjusted_fee}')"
   ]
  },
  {
   "cell_type": "code",
   "execution_count": 35,
   "id": "4b0057a0-8daa-4c2a-b217-ba9a27b64756",
   "metadata": {},
   "outputs": [
    {
     "name": "stdin",
     "output_type": "stream",
     "text": [
      "Enter the number of days the car was Returned Late (0 if returned on time): 1\n"
     ]
    },
    {
     "name": "stdout",
     "output_type": "stream",
     "text": [
      "Your Late Penalty Fee is: $30\n"
     ]
    }
   ],
   "source": [
    "# Task 5: Calculate Late Return Penalty\n",
    "\n",
    "# Objective: Add a penalty fee for any late returns.\n",
    "# Steps:\n",
    "# 1. Prompt the user to enter the number of days the car was returned late.\n",
    "# 2. If the car was returned late (greater than 0 days), calculate a penalty of $30 per late day.\n",
    "# 3. Use conditional statements to apply this penalty only if late days are entered.\n",
    "\n",
    "# Expected Output: The total late return penalty\n",
    "\n",
    "\n",
    "late_fee_pd=30\n",
    "\n",
    "penalty_days=int(input('Enter the number of days the car was Returned Late (0 if returned on time):'))\n",
    "\n",
    "late_penalty=0\n",
    "if penalty_days>0:\n",
    "    late_penalty=late_fee_pd*penalty_days\n",
    "    print(f'Your Late Penalty Fee is: ${late_penalty}')\n",
    "elif penalty_days==0:\n",
    "    print('No Late Return Fee')\n",
    "else:\n",
    "    print('Please Enter Valid Positive Days')"
   ]
  },
  {
   "cell_type": "code",
   "execution_count": 69,
   "id": "dd829a21-55bd-4546-ae53-fd852b55f758",
   "metadata": {},
   "outputs": [
    {
     "name": "stdout",
     "output_type": "stream",
     "text": [
      "RENTAL FEE BILL \n",
      "\n",
      "Your Car Type is: Luxury\n",
      "\n",
      "Your Car Type's Daily Rental Fee is: $100\n",
      "\n",
      "The Number of Days You Rented the Car for: 5\n",
      "\n",
      "Your Membership Discount is: $75.0\n",
      "\n",
      "The Adjusted Fee after Membership Discount is: $425.0\n",
      "\n",
      "The Additional Service Fee is: 125\n",
      "\n",
      "Late Return Penalty: 30\n",
      "\n",
      "TOTAL RENTAL FEE BILL \n",
      "\n",
      "Your Total Rental Fee is: $580.0\n"
     ]
    }
   ],
   "source": [
    "# Task 6: Calculate and Display Total Rental Fee\n",
    "\n",
    "# Objective: Summarize all fees and display the total rental cost.\n",
    "# 1. Sum up the base_fee, membership discount, additional services, and late penalty.\n",
    "# 2. Display a detailed breakdown of the costs, including:\n",
    "#    - Car type and daily rate\n",
    "#    - Number of rental days\n",
    "#    - Membership discount\n",
    "#    - Additional services fee\n",
    "#    - Late return penalty\n",
    "#    - Total rental fee\n",
    "# 3. Format the output for clear and readable presentation to the user.\n",
    "\n",
    "# Expected Output: A summary of all charges with a clear breakdown of the total rental fee.\n",
    "\n",
    "total_fee=adjusted_fee+additional_service_fee+late_penalty\n",
    "\n",
    "print('RENTAL FEE BILL ')\n",
    "print()\n",
    "print(f'Your Car Type is: {car}')\n",
    "print()\n",
    "print(f'Your Car Type\\'s Daily Rental Fee is: ${daily_rate}')\n",
    "print()\n",
    "print(f'The Number of Days You Rented the Car for: {days}')\n",
    "print()\n",
    "print(f'Your Membership Discount is: ${disc_amnt}')\n",
    "print()\n",
    "print(f'The Adjusted Fee after Membership Discount is: ${adjusted_fee}')\n",
    "print()\n",
    "print(f'The Additional Service Fee is: {additional_service_fee}')\n",
    "print()\n",
    "print(f'Late Return Penalty: {late_penalty}')\n",
    "print()\n",
    "print('TOTAL RENTAL FEE BILL ')\n",
    "print()\n",
    "print(f'Your Total Rental Fee is: ${total_fee}')"
   ]
  },
  {
   "cell_type": "code",
   "execution_count": null,
   "id": "4c39b823-7e86-4b48-ae94-324cc599a6ba",
   "metadata": {},
   "outputs": [],
   "source": []
  }
 ],
 "metadata": {
  "kernelspec": {
   "display_name": "Python 3 (ipykernel)",
   "language": "python",
   "name": "python3"
  },
  "language_info": {
   "codemirror_mode": {
    "name": "ipython",
    "version": 3
   },
   "file_extension": ".py",
   "mimetype": "text/x-python",
   "name": "python",
   "nbconvert_exporter": "python",
   "pygments_lexer": "ipython3",
   "version": "3.12.7"
  }
 },
 "nbformat": 4,
 "nbformat_minor": 5
}
