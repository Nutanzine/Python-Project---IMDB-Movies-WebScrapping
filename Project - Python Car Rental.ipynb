{
 "cells": [
  {
   "cell_type": "code",
   "execution_count": 2,
   "id": "04a88eca-f7a7-406a-b02d-04c80c57cf5a",
   "metadata": {},
   "outputs": [],
   "source": [
    "# <!-- Car Rental System Case Study - conditional statement case study\n",
    "# Task 1: Define Rental Rates Based on Car Type\n",
    "# Objective: Set different rental rates for car types (Economy, Standard, Luxury) using conditional statements.\n",
    "# 1. Prompt the user to enter a car type (Economy, Standard, or Luxury).\n",
    "# 2. assign a daily rental rate:\n",
    "# •\t   - Economy: $50/day\n",
    "# •\t   - Standard: $75/day\n",
    "# •\t   - Luxury: $100/day\n",
    "# 3. If an invalid car type is entered, display an error message and exit.\n",
    "# Expected Output: The daily rental rate based on the car type -->\n",
    "\n",
    "# Task 2: Calculate Rental Duration Fee\n",
    "# Objective: Calculate the base rental fee by multiplying the daily rate by the number of rental days.\n",
    "# 1. Prompt the user to enter the number of rental days.\n",
    "# 2. Validate the input as a positive integer; otherwise, display an error and exit.\n",
    "# 3. Calculate the base_fee as the product of the daily rental rate and rental days.\n",
    "# Expected Output: The base_fee based on the rental days and car type\n",
    "\n",
    "\n",
    "\n",
    "# Task 3: Apply Membership Discount\n",
    "# Objective: Adjust the base_fee by applying a membership discount if applicable.\n",
    "# Steps:\n",
    "# 1. Prompt the user to enter their membership type (Premium, Standard, or None).\n",
    "# 2. Use conditional statements to determine the discount rate:\n",
    "#    - Premium: 15% discount\n",
    "#    - Standard: 10% discount\n",
    "#    - None: No discount\n",
    "# 3. If the membership type is invalid, display an error and exit.\n",
    "# 4. Calculate the discount amount and subtract it from the base_fee.\n",
    "# Expected Output: The adjusted fee after the membership discount.\n",
    "\n",
    "\n",
    "# Task 4: Add Optional Services\n",
    "# Objective: Calculate additional charges for optional services (Insurance and GPS).\n",
    "# Steps:\n",
    "# 1. Prompt the user to indicate if they want to add Insurance (yes or no).\n",
    "# •\t   - If 'yes', calculate Insurance fee at $20 per day.\n",
    "# 2. Prompt the user to indicate if they want to add GPS (yes or no).\n",
    "# •\t   - If 'yes', calculate GPS fee at $5 per day.\n",
    "# 3. Use conditional statements to add the appropriate fees based on user choices.\n",
    "# Expected Output: The additional services fee based on selected options.\n",
    "\n",
    "\n",
    "def car_rental():\n",
    "    '''\n",
    "    Car_rental is a miniproject which we are doing ---->docstring\n",
    "    \n",
    "    '''\n",
    "    car_type={'economy':50,'standard':75,'luxury':100}\n",
    "    user_car_type=input(\"Hello.. please enter which car type you want to take for rent:\\\n",
    "     Economy or Standard or Luxury\")\n",
    "    if user_car_type.lower() not in car_type:\n",
    "        print('Invalid car type entred plz enter valid car type')\n",
    "        return\n",
    "    else:\n",
    "        rent=car_type[user_car_type.lower()]\n",
    "        print(f'the car type which you have chosen is {user_car_type} and the daily \\\n",
    "        rate is ${rent}')\n",
    "    rental_days=int(input('enter for how many days you want to take the car on rent'))\n",
    "    if rental_days<0:\n",
    "        print('please enter a valid  no of days')\n",
    "        return\n",
    "    base_fee=rent*rental_days\n",
    "    print(f'You have taken car on rent for {rental_days} days and your base fee will be ${base_fee}')\n",
    "    membership={'premium':15,'standard':10,'none':0}\n",
    "    member=input('Do you have any membership ? ')\n",
    "    if member.lower() not in membership:\n",
    "        print('Invalid membership type given')\n",
    "        return\n",
    "    disc_rate=membership[member.lower()]/100\n",
    "    discount=base_fee*disc_rate\n",
    "    base_fee=base_fee-discount\n",
    "    print(f'You are our {member} member so discount fees is {base_fee}')\n",
    "    add_serv=input('Do you want any additional services if want please enter:')\n",
    "    insu=input('do you want insurence')\n",
    "    gps=input('do you want GPS')\n",
    "    additional_serv={'Insurence':20,'GPS':5}\n",
    "    \n",
    "    \n",
    "    \n",
    "\n",
    "\n",
    "\n",
    "    "
   ]
  },
  {
   "cell_type": "code",
   "execution_count": null,
   "id": "1a868a53-0c43-4ce9-a7bb-dec419fe1b00",
   "metadata": {},
   "outputs": [
    {
     "name": "stdin",
     "output_type": "stream",
     "text": [
      "Hello.. please enter which car type you want to take for rent:     Economy or Standard or Luxury Luxury\n"
     ]
    },
    {
     "name": "stdout",
     "output_type": "stream",
     "text": [
      "the car type which you have chosen is Luxury and the daily         rate is $100\n"
     ]
    },
    {
     "name": "stdin",
     "output_type": "stream",
     "text": [
      "enter for how many days you want to take the car on rent 6\n"
     ]
    },
    {
     "name": "stdout",
     "output_type": "stream",
     "text": [
      "You have taken car on rent for 6 days and your base fee will be $600\n"
     ]
    },
    {
     "name": "stdin",
     "output_type": "stream",
     "text": [
      "Do you have any membership ?  Premium\n"
     ]
    },
    {
     "name": "stdout",
     "output_type": "stream",
     "text": [
      "You are our Premium member so discount fees is 510.0\n"
     ]
    }
   ],
   "source": [
    "car_rental()"
   ]
  },
  {
   "cell_type": "code",
   "execution_count": null,
   "id": "ce74a669-f207-4d00-aba6-bfa7cf01ab64",
   "metadata": {},
   "outputs": [],
   "source": []
  },
  {
   "cell_type": "code",
   "execution_count": null,
   "id": "196d0c4b-04bf-449f-925c-10196759ca0a",
   "metadata": {},
   "outputs": [],
   "source": []
  },
  {
   "cell_type": "code",
   "execution_count": null,
   "id": "d5286571-36a2-4d4c-b960-dbe62ec2ca90",
   "metadata": {},
   "outputs": [],
   "source": []
  },
  {
   "cell_type": "code",
   "execution_count": null,
   "id": "42ce4f1e-fe1e-4729-afa7-5dadf1d22ff1",
   "metadata": {},
   "outputs": [],
   "source": []
  },
  {
   "cell_type": "code",
   "execution_count": null,
   "id": "5e9f814b-a585-4089-a3c1-ca897d5fe597",
   "metadata": {},
   "outputs": [],
   "source": []
  },
  {
   "cell_type": "code",
   "execution_count": null,
   "id": "d8d76175-73a4-410f-9992-a89da8169558",
   "metadata": {},
   "outputs": [],
   "source": []
  },
  {
   "cell_type": "code",
   "execution_count": null,
   "id": "442c191f-7dfc-4512-bdfd-5946e35b9a1b",
   "metadata": {},
   "outputs": [],
   "source": []
  },
  {
   "cell_type": "code",
   "execution_count": null,
   "id": "9457e5a7-304e-4567-9eae-d4377436425e",
   "metadata": {},
   "outputs": [],
   "source": []
  },
  {
   "cell_type": "code",
   "execution_count": null,
   "id": "2e4c99b9-a994-444b-8d1e-c3082e03e95b",
   "metadata": {},
   "outputs": [],
   "source": []
  }
 ],
 "metadata": {
  "kernelspec": {
   "display_name": "Python 3 (ipykernel)",
   "language": "python",
   "name": "python3"
  },
  "language_info": {
   "codemirror_mode": {
    "name": "ipython",
    "version": 3
   },
   "file_extension": ".py",
   "mimetype": "text/x-python",
   "name": "python",
   "nbconvert_exporter": "python",
   "pygments_lexer": "ipython3",
   "version": "3.12.7"
  }
 },
 "nbformat": 4,
 "nbformat_minor": 5
}
